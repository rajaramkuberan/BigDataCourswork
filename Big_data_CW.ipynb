{
  "nbformat": 4,
  "nbformat_minor": 0,
  "metadata": {
    "colab": {
      "name": "Big_data.ipynb",
      "provenance": [],
      "collapsed_sections": [],
      "authorship_tag": "ABX9TyOmStU6FfY0MZuTCKsO49ah",
      "include_colab_link": true
    },
    "kernelspec": {
      "name": "python3",
      "display_name": "Python 3"
    },
    "language_info": {
      "name": "python"
    },
    "accelerator": "GPU"
  },
  "cells": [
    {
      "cell_type": "markdown",
      "metadata": {
        "id": "view-in-github",
        "colab_type": "text"
      },
      "source": [
        "<a href=\"https://colab.research.google.com/github/rajaramkuberan/BigDataCourswork/blob/main/Big_data_CW.ipynb\" target=\"_parent\"><img src=\"https://colab.research.google.com/assets/colab-badge.svg\" alt=\"Open In Colab\"/></a>"
      ]
    },
    {
      "cell_type": "markdown",
      "metadata": {
        "id": "OqxCuF3eg6Ih"
      },
      "source": [
        "### **Module: 7082CEM**\n",
        "### **Coursework Topic: Multi-Class Classification of Orbits for all known Asteroids using Pyspark**  "
      ]
    },
    {
      "cell_type": "markdown",
      "metadata": {
        "id": "1IfhSgwBX2yo"
      },
      "source": [
        "## 1. Pyspark Installation:"
      ]
    },
    {
      "cell_type": "code",
      "metadata": {
        "colab": {
          "base_uri": "https://localhost:8080/"
        },
        "id": "fN8Z2HqKJr-m",
        "outputId": "2496e933-1c3f-4383-db6a-d929de77b79a"
      },
      "source": [
        "!pip install pyspark"
      ],
      "execution_count": 1,
      "outputs": [
        {
          "output_type": "stream",
          "text": [
            "Collecting pyspark\n",
            "\u001b[?25l  Downloading https://files.pythonhosted.org/packages/89/db/e18cfd78e408de957821ec5ca56de1250645b05f8523d169803d8df35a64/pyspark-3.1.2.tar.gz (212.4MB)\n",
            "\u001b[K     |████████████████████████████████| 212.4MB 79kB/s \n",
            "\u001b[?25hCollecting py4j==0.10.9\n",
            "\u001b[?25l  Downloading https://files.pythonhosted.org/packages/9e/b6/6a4fb90cd235dc8e265a6a2067f2a2c99f0d91787f06aca4bcf7c23f3f80/py4j-0.10.9-py2.py3-none-any.whl (198kB)\n",
            "\u001b[K     |████████████████████████████████| 204kB 20.3MB/s \n",
            "\u001b[?25hBuilding wheels for collected packages: pyspark\n",
            "  Building wheel for pyspark (setup.py) ... \u001b[?25l\u001b[?25hdone\n",
            "  Created wheel for pyspark: filename=pyspark-3.1.2-py2.py3-none-any.whl size=212880768 sha256=9a9f85f1bfd7f0acd06338cc0c52061488fd58e549291fee875b7d4c8043de6b\n",
            "  Stored in directory: /root/.cache/pip/wheels/40/1b/2c/30f43be2627857ab80062bef1527c0128f7b4070b6b2d02139\n",
            "Successfully built pyspark\n",
            "Installing collected packages: py4j, pyspark\n",
            "Successfully installed py4j-0.10.9 pyspark-3.1.2\n"
          ],
          "name": "stdout"
        }
      ]
    },
    {
      "cell_type": "markdown",
      "metadata": {
        "id": "1Fg_tcPsYFmF"
      },
      "source": [
        "##2. Import Dependencies:"
      ]
    },
    {
      "cell_type": "code",
      "metadata": {
        "id": "g_RIg8dEpsvB"
      },
      "source": [
        "import pyspark\n",
        "from pyspark.context import SparkContext\n",
        "from pyspark.sql.session import SparkSession\n",
        "spark=SparkSession.builder.master(\"local[*]\").appName('BigData_CW').getOrCreate()\n"
      ],
      "execution_count": 2,
      "outputs": []
    },
    {
      "cell_type": "markdown",
      "metadata": {
        "id": "r7dztFf7YTey"
      },
      "source": [
        "##3. Import Data:"
      ]
    },
    {
      "cell_type": "code",
      "metadata": {
        "id": "leSorinPqiJ4"
      },
      "source": [
        "orbit_data=spark.read.csv('/content/orbit_asteroid.csv',inferSchema=True,header=True)"
      ],
      "execution_count": 7,
      "outputs": []
    },
    {
      "cell_type": "markdown",
      "metadata": {
        "id": "pOIUO3kRYbh1"
      },
      "source": [
        "##4. Dataset Description:"
      ]
    },
    {
      "cell_type": "code",
      "metadata": {
        "colab": {
          "base_uri": "https://localhost:8080/"
        },
        "id": "brPAltYItB0o",
        "outputId": "fdbd1030-6a58-4673-e94d-1a054aa4bbfb"
      },
      "source": [
        "orbit_data.count()"
      ],
      "execution_count": 8,
      "outputs": [
        {
          "output_type": "execute_result",
          "data": {
            "text/plain": [
              "524287"
            ]
          },
          "metadata": {
            "tags": []
          },
          "execution_count": 8
        }
      ]
    },
    {
      "cell_type": "code",
      "metadata": {
        "colab": {
          "base_uri": "https://localhost:8080/"
        },
        "id": "h4ao3PPU1q2o",
        "outputId": "7e97c2dd-a113-4e08-f6e7-290fca548f84"
      },
      "source": [
        "orbit_data.show()"
      ],
      "execution_count": 9,
      "outputs": [
        {
          "output_type": "stream",
          "text": [
            "+--------+---------------+--------+----+----+-------+----+---+---------+----------+------------+------+----------+---------------+--------------------+---------+---------+---------+---------+--------+---------+----------+---------+---------+--------+--------+---------+----------+-----------+--------------+---------------+-------------+----------------+--------------+----------+\n",
            "|NEO_flag|One_km_NEO_flag|PHA_flag|   H|   G|Num_obs| rms|  U|Arc_years|Perturbers|Perturbers_2|Number|      Name|Principal_desig|        Other_desigs|    Epoch|        M|     Peri|     Node|       i|        e|         n|        a|      Ref|Num_opps|Computer|Hex_flags|  Last_obs|         Tp|Orbital_period|Perihelion_dist|Aphelion_dist|Semilatus_rectum|Synodic_period|Orbit_type|\n",
            "+--------+---------------+--------+----+----+-------+----+---+---------+----------+------------+------+----------+---------------+--------------------+---------+---------+---------+---------+--------+---------+----------+---------+---------+--------+--------+---------+----------+-----------+--------------+---------------+-------------+----------------+--------------+----------+\n",
            "|     nan|            nan|     nan|3.53|0.15|   7277|0.51|  0|1801-2020|       M-v|         30k|    -1|     Ceres|        A801 AA|['A899 OF', '1943...|2459200.5|205.54543| 73.72487| 80.27236| 10.5879|0.0781685|0.21424211|2.7660891|E2021-B10|     118|     Pan|        0|11/18/2020|2459921.435|     4.6004387|      2.5498681|    2.9823101|       1.3745937|     1.2777439|       MBA|\n",
            "|     nan|            nan|     nan|4.21|0.15|   8702|0.46|  0|1804-2020|       M-c|         28k|    -2|    Pallas|        A802 FA|                 nan|2459200.5|187.58635| 310.2881|172.96589|34.85446|  0.22975|0.21328227|2.7743817|E2021-B10|     115|     Pan|        0| 11/5/2020|2460008.883|      4.621142|      2.1369675|    3.4117959|       1.3139679|      1.276156|       MBA|\n",
            "|     nan|            nan|     nan|5.26|0.15|   7447|0.47|  0|1804-2020|       M-v|         3Ek|    -3|      Juno|        A804 RA|                 nan|2459200.5|170.71125|248.03277|169.85304|12.99149|0.2569881|0.22616245|2.6680198|E2021-B10|     114|     Pan|        0| 9/12/2020|2458445.683|     4.3579633|      1.9823705|    3.3536691|        1.245908|     1.2977996|       MBA|\n",
            "|     nan|            nan|     nan|3.29|0.15|   7420|0.49|  0|1821-2020|       M-p|         18k|    -4|     Vesta|        A807 FA|                 nan|2459200.5|258.56787|150.92239|103.80838| 7.14165| 0.088425|0.27150381|2.3620301|E2021-B10|     107|     Pan|        0|12/16/2020|2459574.094|     3.6301798|      2.1531676|    2.5708926|       1.1717807|     1.3802021|       MBA|\n",
            "|     nan|            nan|     nan|6.99|0.15|   3070|0.56|  0|1845-2020|       M-v|         3Ek|    -5|   Astraea|        A845 XA|         ['1969 SE']|2459200.5| 65.61238|358.62503|141.57168| 5.36754|0.1907879|0.23871914|2.5736208|E2021-B10|      81|     Pan|        0| 6/19/2020|2458925.648|     4.1287334|      2.0826051|    3.0646365|       1.2399705|     1.3196182|       MBA|\n",
            "|     nan|            nan|     nan|5.65|0.15|   6041|0.45|  0|1848-2020|       M-v|         3Ek|    -6|      Hebe|        A847 NA|         ['1947 JB']|2459200.5|242.94481|239.70765|138.64293|14.73973|0.2032777|0.26106797| 2.424564|E2021-B10|      96|     Pan|        7| 9/12/2020|2459648.871|     3.7752914|      1.9317042|    2.9174238|       1.1621883|     1.3603225|   Phocaea|\n",
            "|     nan|            nan|     nan|5.58|0.15|   5338|0.46|  0|1848-2020|       M-v|         3Ek|    -7|      Iris|        A847 PA|                 nan|2459200.5|300.79262|145.24071|259.54045| 5.51827|0.2296463|0.26723147|2.3871387|E2021-B10|      87|     Pan|        0| 11/6/2020|2459422.058|     3.6882171|      1.8389411|    2.9353363|       1.1306236|     1.3719938|       MBA|\n",
            "|     nan|            nan|     nan|6.51|0.15|   2830| 0.6|  0|1847-2021|       M-v|         3Ek|    -8|     Flora|        A847 UA|                 nan|2459200.5| 15.63852| 285.5018|110.87635| 5.88909|0.1558501|0.30176118|2.2013739|E2021-B10|      90|     Pan|        0| 1/10/2021|2459148.676|     3.2661845|      1.8582896|    2.5444582|       1.0739521|     1.4412703|       MBA|\n",
            "|     nan|            nan|     nan|6.33|0.15|   2968|0.59|  0|1822-2021|       M-v|         3Ek|    -9|     Metis|        A848 HA|        ['1974 QU2']|2459200.5| 77.42938|  6.29362| 68.90477| 5.57632|0.1233535|0.26740848|2.3860851|E2021-B10|      83|     Pan|        0|  1/9/2021|2458910.945|     3.6857756|      2.0917532|     2.680417|       1.1748891|     1.3723319|       MBA|\n",
            "|     nan|            nan|     nan|5.53|0.15|   3530|0.59|  0|1849-2020|       M-v|         3Ek|   -10|    Hygiea|        A849 GA|         ['A900 GA']|2459200.5|258.20934|312.42104|283.19813| 3.83148|0.1119474| 0.1769123|3.1426597|E2021-B10|      94|     Pan|        0|11/11/2020|2459775.874|     5.5711652|      2.7908471|    3.4944723|       1.5516376|     1.2187626|       MBA|\n",
            "|     nan|            nan|     nan|6.56|0.15|   5598|0.49|  0|1850-2021|       M-v|         3Ek|   -11|Parthenope|        A850 JA|                 nan|2459200.5| 72.99659|195.40454|125.52869| 4.63183|0.0997356|0.25663876|2.4523807|E2021-B10|      98|     Pan|        0| 1/10/2021|2458916.067|     3.8404475|       2.207791|    2.6969704|       1.2139932|     1.3520572|       MBA|\n",
            "|     nan|            nan|     nan| 7.3|0.15|   3258|0.57|  0|1850-2020|       M-v|         3Ek|   -12|  Victoria|        A850 RA|                 nan|2459200.5|299.09975| 69.73343|235.39704| 8.37323|0.2205197|0.27650373|2.3334691|E2021-B10|      80|     Pan|        0| 7/31/2020|2459420.751|     3.5645366|      1.8188932|     2.848045|       1.1099975|      1.389934|       MBA|\n",
            "|     nan|            nan|     nan|6.83|0.15|   2863|0.58|  0|1850-2020|       M-v|         3Ek|   -13|    Egeria|        A850 VA|                 nan|2459200.5|330.79183|  80.2932| 43.21908|16.53381|0.0853703|0.23830297|2.5766163|E2021-B10|      72|     Pan|        0|12/15/2020|2459323.067|     4.1359438|      2.3566498|    2.7965828|       1.2789188|     1.3188833|       MBA|\n",
            "|     nan|            nan|     nan|6.49|0.15|   2883|0.58|  0|1851-2021|       M-v|         3Ek|   -14|     Irene|        A851 KA|['A906 QC', 'A913...|2459200.5|307.22193| 97.75088| 86.12379| 9.12076|0.1661571|0.23690752|2.5867243|E2021-B10|      82|     Pan|        0|  1/9/2021|2459423.279|     4.1603054|      2.1569217|    3.0165269|       1.2576548|     1.3164251|       MBA|\n",
            "|     nan|            nan|     nan| 5.2|0.15|   2394|0.55|  0|1851-2020|       M-v|         38h|   -15|   Eunomia|        A851 OA|                 nan|2459200.5| 60.84584| 98.61793|292.93525|11.75338|0.1863457|0.22921812|2.6442555|MPO530953|      79|    MPCW|        0|  1/7/2020| 2458935.05|      4.299868|      2.1515099|    3.1370011|       1.2762172|     1.3030424|       MBA|\n",
            "|     nan|            nan|     nan|6.05|0.15|   3317|0.57|  0|1852-2020|       M-v|         3Ek|   -16|    Psyche|        A852 FA|                 nan|2459200.5| 46.43563|229.08639|150.03697| 3.09652|0.1337219|0.19716964|2.9235421|E2021-B10|      87|     Pan|        0|12/24/2020|2458964.989|     4.9987801|      2.5326005|    3.3144837|       1.4356323|     1.2500763|       MBA|\n",
            "|     nan|            nan|     nan|7.78|0.15|   3944| 0.6|  0|1852-2021|       M-v|         3Ek|   -17|    Thetis|        A852 HA|['A913 CA', 'A916...|2459200.5| 95.98367|135.83392|125.54165| 5.59294| 0.133193|0.25388619|2.4700742|E2021-B10|      98|     Pan|        0| 1/12/2021|2458822.442|     3.8820846|      2.1410776|    2.7990708|       1.2131271|     1.3469711|       MBA|\n",
            "|     nan|            nan|     nan| 6.5|0.15|   4863|0.54|  0|1852-2019|       M-v|         38h|   -18| Melpomene|        A852 MA|                 nan|2459200.5| 77.09391|228.10465|150.36236| 10.1318|0.2176288|0.28327733|2.2961213|MPO530953|      74|    MPCW|        0|10/23/2019| 2458928.35|     3.4793029|      1.7964192|    2.7958234|       1.0936859|     1.4033392|       MBA|\n",
            "|     nan|            nan|     nan|7.38|0.15|   3491|0.56|  0|1852-2021|       M-v|         3Ek|   -19|   Fortuna|        A852 QA|         ['A902 UG']|2459200.5|351.90128|182.36679|211.05924| 1.57288|0.1568159|0.25826407|2.4420809|E2021-B10|      91|     Pan|        0| 1/12/2021|2459231.858|     3.8162786|      2.0591238|     2.825038|       1.1910136|     1.3550785|       MBA|\n",
            "|     nan|            nan|     nan|6.55|0.15|   2653|0.59|  0|1853-2021|       M-v|         3Ek|   -20|  Massalia|        A852 SA|                 nan|2459200.5|275.03174|257.53731|205.98687| 0.70883|0.1427795|0.26372231|2.4082679|E2021-B10|      88|     Pan|        0| 1/12/2021|2459522.688|     3.7372934|      2.0644166|    2.7521192|       1.1795865|     1.3653244|       MBA|\n",
            "+--------+---------------+--------+----+----+-------+----+---+---------+----------+------------+------+----------+---------------+--------------------+---------+---------+---------+---------+--------+---------+----------+---------+---------+--------+--------+---------+----------+-----------+--------------+---------------+-------------+----------------+--------------+----------+\n",
            "only showing top 20 rows\n",
            "\n"
          ],
          "name": "stdout"
        }
      ]
    },
    {
      "cell_type": "code",
      "metadata": {
        "colab": {
          "base_uri": "https://localhost:8080/"
        },
        "id": "OvMvXASvtE05",
        "outputId": "5b92c4d1-565e-4cd9-ff12-13770d2bf23d"
      },
      "source": [
        "orbit_data.printSchema()"
      ],
      "execution_count": 11,
      "outputs": [
        {
          "output_type": "stream",
          "text": [
            "root\n",
            " |-- NEO_flag: string (nullable = true)\n",
            " |-- One_km_NEO_flag: string (nullable = true)\n",
            " |-- PHA_flag: string (nullable = true)\n",
            " |-- H: double (nullable = true)\n",
            " |-- G: double (nullable = true)\n",
            " |-- Num_obs: integer (nullable = true)\n",
            " |-- rms: string (nullable = true)\n",
            " |-- U: string (nullable = true)\n",
            " |-- Arc_years: string (nullable = true)\n",
            " |-- Perturbers: string (nullable = true)\n",
            " |-- Perturbers_2: string (nullable = true)\n",
            " |-- Number: integer (nullable = true)\n",
            " |-- Name: string (nullable = true)\n",
            " |-- Principal_desig: string (nullable = true)\n",
            " |-- Other_desigs: string (nullable = true)\n",
            " |-- Epoch: double (nullable = true)\n",
            " |-- M: double (nullable = true)\n",
            " |-- Peri: double (nullable = true)\n",
            " |-- Node: double (nullable = true)\n",
            " |-- i: double (nullable = true)\n",
            " |-- e: double (nullable = true)\n",
            " |-- n: double (nullable = true)\n",
            " |-- a: double (nullable = true)\n",
            " |-- Ref: string (nullable = true)\n",
            " |-- Num_opps: integer (nullable = true)\n",
            " |-- Computer: string (nullable = true)\n",
            " |-- Hex_flags: string (nullable = true)\n",
            " |-- Last_obs: string (nullable = true)\n",
            " |-- Tp: double (nullable = true)\n",
            " |-- Orbital_period: double (nullable = true)\n",
            " |-- Perihelion_dist: double (nullable = true)\n",
            " |-- Aphelion_dist: double (nullable = true)\n",
            " |-- Semilatus_rectum: double (nullable = true)\n",
            " |-- Synodic_period: double (nullable = true)\n",
            " |-- Orbit_type: string (nullable = true)\n",
            "\n"
          ],
          "name": "stdout"
        }
      ]
    },
    {
      "cell_type": "markdown",
      "metadata": {
        "id": "mPm5CcOAYilJ"
      },
      "source": [
        "##5. Finding nan Values:"
      ]
    },
    {
      "cell_type": "code",
      "metadata": {
        "colab": {
          "base_uri": "https://localhost:8080/"
        },
        "id": "EeZm89KUOG5Q",
        "outputId": "2601e745-cdb0-4908-ac5c-7e80576c84db"
      },
      "source": [
        "from pyspark.sql.functions import isnan, when, count, col\n",
        "orbit_data.select([count(when(isnan(c), c)).alias(c) for c in orbit_data.columns]).show()"
      ],
      "execution_count": 12,
      "outputs": [
        {
          "output_type": "stream",
          "text": [
            "+--------+---------------+--------+---+---+-------+---+---+---------+----------+------------+------+------+---------------+------------+-----+---+----+----+---+---+---+---+---+--------+--------+---------+--------+---+--------------+---------------+-------------+----------------+--------------+----------+\n",
            "|NEO_flag|One_km_NEO_flag|PHA_flag|  H|  G|Num_obs|rms|  U|Arc_years|Perturbers|Perturbers_2|Number|  Name|Principal_desig|Other_desigs|Epoch|  M|Peri|Node|  i|  e|  n|  a|Ref|Num_opps|Computer|Hex_flags|Last_obs| Tp|Orbital_period|Perihelion_dist|Aphelion_dist|Semilatus_rectum|Synodic_period|Orbit_type|\n",
            "+--------+---------------+--------+---+---+-------+---+---+---------+----------+------------+------+------+---------------+------------+-----+---+----+----+---+---+---+---+---+--------+--------+---------+--------+---+--------------+---------------+-------------+----------------+--------------+----------+\n",
            "|  521479|         523121|  523559|  0|  0|      0|  2|  3|        0|         0|           0|     0|502138|              0|      464244|    0|  0|   0|   0|  0|  0|  0|  0|  0|       0|       0|        0|       0|  0|             0|              0|            0|               0|             0|         0|\n",
            "+--------+---------------+--------+---+---+-------+---+---+---------+----------+------------+------+------+---------------+------------+-----+---+----+----+---+---+---+---+---+--------+--------+---------+--------+---+--------------+---------------+-------------+----------------+--------------+----------+\n",
            "\n"
          ],
          "name": "stdout"
        }
      ]
    },
    {
      "cell_type": "markdown",
      "metadata": {
        "id": "nofesYT8Yr3e"
      },
      "source": [
        "## 6. Categorical Features Count:"
      ]
    },
    {
      "cell_type": "code",
      "metadata": {
        "colab": {
          "base_uri": "https://localhost:8080/"
        },
        "id": "mLluXAkSSNsA",
        "outputId": "b3e618f9-0f99-48ea-cf92-b4de80b947f5"
      },
      "source": [
        "orbit_data.groupBy('Computer').count().show()\n",
        "orbit_data.groupBy('Orbit_type').count().show()\n",
        "\n",
        "\n"
      ],
      "execution_count": 13,
      "outputs": [
        {
          "output_type": "stream",
          "text": [
            "+----------+------+\n",
            "|  Computer| count|\n",
            "+----------+------+\n",
            "|    MPCADO|   498|\n",
            "|     Veres|   271|\n",
            "|Alexanders|     9|\n",
            "|  Williams| 90500|\n",
            "|  MPCLINUX| 73196|\n",
            "|    MPCALB|    74|\n",
            "|    MPCMEL|     6|\n",
            "|       Pan|296588|\n",
            "|      Pike|     1|\n",
            "|    MPCAPO|    26|\n",
            "|    MPCALI|     2|\n",
            "|      MPCW| 63109|\n",
            "|      MPCM|     7|\n",
            "+----------+------+\n",
            "\n",
            "+--------------------+------+\n",
            "|          Orbit_type| count|\n",
            "+--------------------+------+\n",
            "|               Atira|     9|\n",
            "|                Aten|   221|\n",
            "|Object with perih...|  4369|\n",
            "|               Hilda|  2216|\n",
            "|                Amor|  1223|\n",
            "|            Hungaria|  8848|\n",
            "|             Phocaea|  5147|\n",
            "|      Distant Object|   645|\n",
            "|      Jupiter Trojan|  4869|\n",
            "|                 MBA|495385|\n",
            "|              Apollo|  1355|\n",
            "+--------------------+------+\n",
            "\n"
          ],
          "name": "stdout"
        }
      ]
    },
    {
      "cell_type": "markdown",
      "metadata": {
        "id": "HFVZqYnhY3z-"
      },
      "source": [
        "## 7. Removing Redundant Features:"
      ]
    },
    {
      "cell_type": "code",
      "metadata": {
        "id": "pyJcV3SS2sYQ"
      },
      "source": [
        "reduntant_col={'NEO_flag','One_km_NEO_flag','PHA_flag','Name','Other_desigs','Number','U','Arc_years','Perturbers',\n",
        "               'Perturbers_2','Ref','Principal_desig','Hex_flags','Last_obs'}\n",
        "classify_col=orbit_data.drop(*reduntant_col)"
      ],
      "execution_count": 14,
      "outputs": []
    },
    {
      "cell_type": "code",
      "metadata": {
        "colab": {
          "base_uri": "https://localhost:8080/"
        },
        "id": "qjP2rUyUJzaH",
        "outputId": "51d07141-631a-48a0-9553-9c36c25c9aa3"
      },
      "source": [
        "classify_col.printSchema()"
      ],
      "execution_count": 15,
      "outputs": [
        {
          "output_type": "stream",
          "text": [
            "root\n",
            " |-- H: double (nullable = true)\n",
            " |-- G: double (nullable = true)\n",
            " |-- Num_obs: integer (nullable = true)\n",
            " |-- rms: string (nullable = true)\n",
            " |-- Epoch: double (nullable = true)\n",
            " |-- M: double (nullable = true)\n",
            " |-- Peri: double (nullable = true)\n",
            " |-- Node: double (nullable = true)\n",
            " |-- i: double (nullable = true)\n",
            " |-- e: double (nullable = true)\n",
            " |-- n: double (nullable = true)\n",
            " |-- a: double (nullable = true)\n",
            " |-- Num_opps: integer (nullable = true)\n",
            " |-- Computer: string (nullable = true)\n",
            " |-- Tp: double (nullable = true)\n",
            " |-- Orbital_period: double (nullable = true)\n",
            " |-- Perihelion_dist: double (nullable = true)\n",
            " |-- Aphelion_dist: double (nullable = true)\n",
            " |-- Semilatus_rectum: double (nullable = true)\n",
            " |-- Synodic_period: double (nullable = true)\n",
            " |-- Orbit_type: string (nullable = true)\n",
            "\n"
          ],
          "name": "stdout"
        }
      ]
    },
    {
      "cell_type": "markdown",
      "metadata": {
        "id": "dEStT3zKZgIS"
      },
      "source": [
        "##8. Casting the Features:"
      ]
    },
    {
      "cell_type": "code",
      "metadata": {
        "id": "YZQZTldeQs46"
      },
      "source": [
        "data_cast = classify_col.withColumn(\"H\",col(\"H\").cast('float')) \\\n",
        "                        .withColumn(\"G\",col(\"G\").cast('float')) \\\n",
        "                        .withColumn(\"Num_obs\",col(\"Num_obs\").cast('integer'))\\\n",
        "                        .withColumn(\"rms\",col(\"rms\").cast('float'))\\\n",
        "                        \n",
        "\n",
        "\t\n"
      ],
      "execution_count": 16,
      "outputs": []
    },
    {
      "cell_type": "code",
      "metadata": {
        "colab": {
          "base_uri": "https://localhost:8080/"
        },
        "id": "U4QQXD61RSi_",
        "outputId": "87a5418a-e4cc-475e-e2d5-13b4da48dc28"
      },
      "source": [
        "data_cast.printSchema()"
      ],
      "execution_count": 17,
      "outputs": [
        {
          "output_type": "stream",
          "text": [
            "root\n",
            " |-- H: float (nullable = true)\n",
            " |-- G: float (nullable = true)\n",
            " |-- Num_obs: integer (nullable = true)\n",
            " |-- rms: float (nullable = true)\n",
            " |-- Epoch: double (nullable = true)\n",
            " |-- M: double (nullable = true)\n",
            " |-- Peri: double (nullable = true)\n",
            " |-- Node: double (nullable = true)\n",
            " |-- i: double (nullable = true)\n",
            " |-- e: double (nullable = true)\n",
            " |-- n: double (nullable = true)\n",
            " |-- a: double (nullable = true)\n",
            " |-- Num_opps: integer (nullable = true)\n",
            " |-- Computer: string (nullable = true)\n",
            " |-- Tp: double (nullable = true)\n",
            " |-- Orbital_period: double (nullable = true)\n",
            " |-- Perihelion_dist: double (nullable = true)\n",
            " |-- Aphelion_dist: double (nullable = true)\n",
            " |-- Semilatus_rectum: double (nullable = true)\n",
            " |-- Synodic_period: double (nullable = true)\n",
            " |-- Orbit_type: string (nullable = true)\n",
            "\n"
          ],
          "name": "stdout"
        }
      ]
    },
    {
      "cell_type": "markdown",
      "metadata": {
        "id": "tWhUCPvzZnPz"
      },
      "source": [
        "##9. String Indexing of Categorical Features:"
      ]
    },
    {
      "cell_type": "code",
      "metadata": {
        "colab": {
          "base_uri": "https://localhost:8080/"
        },
        "id": "B1_iq8cAh3wl",
        "outputId": "21352695-9cc7-4a6f-aeb4-cfd660985afa"
      },
      "source": [
        "from pyspark.ml.feature import StringIndexer\n",
        "orbit = StringIndexer(inputCol=\"Orbit_type\", outputCol=\"Orbit_type_Index\").setHandleInvalid(\"skip\")\n",
        "computer = StringIndexer(inputCol=\"Computer\", outputCol=\"Computer_Index\").setHandleInvalid(\"skip\")\n",
        "computer_string_indexer = computer.fit(data_cast).transform(data_cast)\n",
        "orbit_string_indexer = orbit.fit(computer_string_indexer).transform(computer_string_indexer)\n",
        "orbit_string_indexer.show()\n",
        "\n"
      ],
      "execution_count": 18,
      "outputs": [
        {
          "output_type": "stream",
          "text": [
            "+----+----+-------+----+---------+---------+---------+---------+--------+---------+----------+---------+--------+--------+-----------+--------------+---------------+-------------+----------------+--------------+----------+--------------+----------------+\n",
            "|   H|   G|Num_obs| rms|    Epoch|        M|     Peri|     Node|       i|        e|         n|        a|Num_opps|Computer|         Tp|Orbital_period|Perihelion_dist|Aphelion_dist|Semilatus_rectum|Synodic_period|Orbit_type|Computer_Index|Orbit_type_Index|\n",
            "+----+----+-------+----+---------+---------+---------+---------+--------+---------+----------+---------+--------+--------+-----------+--------------+---------------+-------------+----------------+--------------+----------+--------------+----------------+\n",
            "|3.53|0.15|   7277|0.51|2459200.5|205.54543| 73.72487| 80.27236| 10.5879|0.0781685|0.21424211|2.7660891|     118|     Pan|2459921.435|     4.6004387|      2.5498681|    2.9823101|       1.3745937|     1.2777439|       MBA|           0.0|             0.0|\n",
            "|4.21|0.15|   8702|0.46|2459200.5|187.58635| 310.2881|172.96589|34.85446|  0.22975|0.21328227|2.7743817|     115|     Pan|2460008.883|      4.621142|      2.1369675|    3.4117959|       1.3139679|      1.276156|       MBA|           0.0|             0.0|\n",
            "|5.26|0.15|   7447|0.47|2459200.5|170.71125|248.03277|169.85304|12.99149|0.2569881|0.22616245|2.6680198|     114|     Pan|2458445.683|     4.3579633|      1.9823705|    3.3536691|        1.245908|     1.2977996|       MBA|           0.0|             0.0|\n",
            "|3.29|0.15|   7420|0.49|2459200.5|258.56787|150.92239|103.80838| 7.14165| 0.088425|0.27150381|2.3620301|     107|     Pan|2459574.094|     3.6301798|      2.1531676|    2.5708926|       1.1717807|     1.3802021|       MBA|           0.0|             0.0|\n",
            "|6.99|0.15|   3070|0.56|2459200.5| 65.61238|358.62503|141.57168| 5.36754|0.1907879|0.23871914|2.5736208|      81|     Pan|2458925.648|     4.1287334|      2.0826051|    3.0646365|       1.2399705|     1.3196182|       MBA|           0.0|             0.0|\n",
            "|5.65|0.15|   6041|0.45|2459200.5|242.94481|239.70765|138.64293|14.73973|0.2032777|0.26106797| 2.424564|      96|     Pan|2459648.871|     3.7752914|      1.9317042|    2.9174238|       1.1621883|     1.3603225|   Phocaea|           0.0|             2.0|\n",
            "|5.58|0.15|   5338|0.46|2459200.5|300.79262|145.24071|259.54045| 5.51827|0.2296463|0.26723147|2.3871387|      87|     Pan|2459422.058|     3.6882171|      1.8389411|    2.9353363|       1.1306236|     1.3719938|       MBA|           0.0|             0.0|\n",
            "|6.51|0.15|   2830| 0.6|2459200.5| 15.63852| 285.5018|110.87635| 5.88909|0.1558501|0.30176118|2.2013739|      90|     Pan|2459148.676|     3.2661845|      1.8582896|    2.5444582|       1.0739521|     1.4412703|       MBA|           0.0|             0.0|\n",
            "|6.33|0.15|   2968|0.59|2459200.5| 77.42938|  6.29362| 68.90477| 5.57632|0.1233535|0.26740848|2.3860851|      83|     Pan|2458910.945|     3.6857756|      2.0917532|     2.680417|       1.1748891|     1.3723319|       MBA|           0.0|             0.0|\n",
            "|5.53|0.15|   3530|0.59|2459200.5|258.20934|312.42104|283.19813| 3.83148|0.1119474| 0.1769123|3.1426597|      94|     Pan|2459775.874|     5.5711652|      2.7908471|    3.4944723|       1.5516376|     1.2187626|       MBA|           0.0|             0.0|\n",
            "|6.56|0.15|   5598|0.49|2459200.5| 72.99659|195.40454|125.52869| 4.63183|0.0997356|0.25663876|2.4523807|      98|     Pan|2458916.067|     3.8404475|       2.207791|    2.6969704|       1.2139932|     1.3520572|       MBA|           0.0|             0.0|\n",
            "| 7.3|0.15|   3258|0.57|2459200.5|299.09975| 69.73343|235.39704| 8.37323|0.2205197|0.27650373|2.3334691|      80|     Pan|2459420.751|     3.5645366|      1.8188932|     2.848045|       1.1099975|      1.389934|       MBA|           0.0|             0.0|\n",
            "|6.83|0.15|   2863|0.58|2459200.5|330.79183|  80.2932| 43.21908|16.53381|0.0853703|0.23830297|2.5766163|      72|     Pan|2459323.067|     4.1359438|      2.3566498|    2.7965828|       1.2789188|     1.3188833|       MBA|           0.0|             0.0|\n",
            "|6.49|0.15|   2883|0.58|2459200.5|307.22193| 97.75088| 86.12379| 9.12076|0.1661571|0.23690752|2.5867243|      82|     Pan|2459423.279|     4.1603054|      2.1569217|    3.0165269|       1.2576548|     1.3164251|       MBA|           0.0|             0.0|\n",
            "| 5.2|0.15|   2394|0.55|2459200.5| 60.84584| 98.61793|292.93525|11.75338|0.1863457|0.22921812|2.6442555|      79|    MPCW| 2458935.05|      4.299868|      2.1515099|    3.1370011|       1.2762172|     1.3030424|       MBA|           3.0|             0.0|\n",
            "|6.05|0.15|   3317|0.57|2459200.5| 46.43563|229.08639|150.03697| 3.09652|0.1337219|0.19716964|2.9235421|      87|     Pan|2458964.989|     4.9987801|      2.5326005|    3.3144837|       1.4356323|     1.2500763|       MBA|           0.0|             0.0|\n",
            "|7.78|0.15|   3944| 0.6|2459200.5| 95.98367|135.83392|125.54165| 5.59294| 0.133193|0.25388619|2.4700742|      98|     Pan|2458822.442|     3.8820846|      2.1410776|    2.7990708|       1.2131271|     1.3469711|       MBA|           0.0|             0.0|\n",
            "| 6.5|0.15|   4863|0.54|2459200.5| 77.09391|228.10465|150.36236| 10.1318|0.2176288|0.28327733|2.2961213|      74|    MPCW| 2458928.35|     3.4793029|      1.7964192|    2.7958234|       1.0936859|     1.4033392|       MBA|           3.0|             0.0|\n",
            "|7.38|0.15|   3491|0.56|2459200.5|351.90128|182.36679|211.05924| 1.57288|0.1568159|0.25826407|2.4420809|      91|     Pan|2459231.858|     3.8162786|      2.0591238|     2.825038|       1.1910136|     1.3550785|       MBA|           0.0|             0.0|\n",
            "|6.55|0.15|   2653|0.59|2459200.5|275.03174|257.53731|205.98687| 0.70883|0.1427795|0.26372231|2.4082679|      88|     Pan|2459522.688|     3.7372934|      2.0644166|    2.7521192|       1.1795865|     1.3653244|       MBA|           0.0|             0.0|\n",
            "+----+----+-------+----+---------+---------+---------+---------+--------+---------+----------+---------+--------+--------+-----------+--------------+---------------+-------------+----------------+--------------+----------+--------------+----------------+\n",
            "only showing top 20 rows\n",
            "\n"
          ],
          "name": "stdout"
        }
      ]
    },
    {
      "cell_type": "markdown",
      "metadata": {
        "id": "RfcQc5zjZyWW"
      },
      "source": [
        "##10. Distribution of Indexed Features:"
      ]
    },
    {
      "cell_type": "code",
      "metadata": {
        "colab": {
          "base_uri": "https://localhost:8080/"
        },
        "id": "WAdpPsocimVC",
        "outputId": "9a78ad68-6ff2-4b42-86f3-fa72a870cc82"
      },
      "source": [
        "orbit_string_indexer.groupBy('Orbit_type_Index').count().show()\n",
        "orbit_string_indexer.groupBy('Computer_Index').count().show(100)\n",
        "orbit_string_indexer.count()"
      ],
      "execution_count": 19,
      "outputs": [
        {
          "output_type": "stream",
          "text": [
            "+----------------+------+\n",
            "|Orbit_type_Index| count|\n",
            "+----------------+------+\n",
            "|             8.0|   645|\n",
            "|             0.0|495385|\n",
            "|             7.0|  1223|\n",
            "|             1.0|  8848|\n",
            "|             4.0|  4369|\n",
            "|             3.0|  4869|\n",
            "|             2.0|  5147|\n",
            "|            10.0|     9|\n",
            "|             6.0|  1355|\n",
            "|             5.0|  2216|\n",
            "|             9.0|   221|\n",
            "+----------------+------+\n",
            "\n",
            "+--------------+------+\n",
            "|Computer_Index| count|\n",
            "+--------------+------+\n",
            "|           8.0|     9|\n",
            "|           0.0|296588|\n",
            "|           7.0|    26|\n",
            "|           1.0| 90500|\n",
            "|           4.0|   498|\n",
            "|          11.0|     2|\n",
            "|           3.0| 63109|\n",
            "|           2.0| 73196|\n",
            "|          10.0|     6|\n",
            "|           6.0|    74|\n",
            "|           5.0|   271|\n",
            "|           9.0|     7|\n",
            "|          12.0|     1|\n",
            "+--------------+------+\n",
            "\n"
          ],
          "name": "stdout"
        },
        {
          "output_type": "execute_result",
          "data": {
            "text/plain": [
              "524287"
            ]
          },
          "metadata": {
            "tags": []
          },
          "execution_count": 19
        }
      ]
    },
    {
      "cell_type": "markdown",
      "metadata": {
        "id": "VLBexnw6aLx9"
      },
      "source": [
        "##11. One Hot Encoding of the Categorical Features:"
      ]
    },
    {
      "cell_type": "code",
      "metadata": {
        "colab": {
          "base_uri": "https://localhost:8080/"
        },
        "id": "4a5r-1pojD7M",
        "outputId": "1305faa0-c8ce-4891-e046-b69294f3e324"
      },
      "source": [
        "from pyspark.ml.feature import OneHotEncoder\n",
        "#onehotencoder to Orbit_type_Index\n",
        "OHE_Orbit_type_vector = OneHotEncoder(inputCol=\"Orbit_type_Index\", outputCol=\"Orbit_type_vec\")\n",
        "OHE_Computer_vector = OneHotEncoder(inputCol=\"Computer_Index\", outputCol=\"Computer_vec\")\n",
        "orbit_OHE = OHE_Computer_vector.fit(orbit_string_indexer).transform(orbit_string_indexer)\n",
        "orbit_data_OHE = OHE_Orbit_type_vector.fit(orbit_OHE).transform(orbit_OHE)\n",
        "orbit_data_OHE.show(truncate=False)"
      ],
      "execution_count": 20,
      "outputs": [
        {
          "output_type": "stream",
          "text": [
            "+----+----+-------+----+---------+---------+---------+---------+--------+---------+----------+---------+--------+--------+-----------+--------------+---------------+-------------+----------------+--------------+----------+--------------+----------------+--------------+--------------+\n",
            "|H   |G   |Num_obs|rms |Epoch    |M        |Peri     |Node     |i       |e        |n         |a        |Num_opps|Computer|Tp         |Orbital_period|Perihelion_dist|Aphelion_dist|Semilatus_rectum|Synodic_period|Orbit_type|Computer_Index|Orbit_type_Index|Computer_vec  |Orbit_type_vec|\n",
            "+----+----+-------+----+---------+---------+---------+---------+--------+---------+----------+---------+--------+--------+-----------+--------------+---------------+-------------+----------------+--------------+----------+--------------+----------------+--------------+--------------+\n",
            "|3.53|0.15|7277   |0.51|2459200.5|205.54543|73.72487 |80.27236 |10.5879 |0.0781685|0.21424211|2.7660891|118     |Pan     |2459921.435|4.6004387     |2.5498681      |2.9823101    |1.3745937       |1.2777439     |MBA       |0.0           |0.0             |(12,[0],[1.0])|(10,[0],[1.0])|\n",
            "|4.21|0.15|8702   |0.46|2459200.5|187.58635|310.2881 |172.96589|34.85446|0.22975  |0.21328227|2.7743817|115     |Pan     |2460008.883|4.621142      |2.1369675      |3.4117959    |1.3139679       |1.276156      |MBA       |0.0           |0.0             |(12,[0],[1.0])|(10,[0],[1.0])|\n",
            "|5.26|0.15|7447   |0.47|2459200.5|170.71125|248.03277|169.85304|12.99149|0.2569881|0.22616245|2.6680198|114     |Pan     |2458445.683|4.3579633     |1.9823705      |3.3536691    |1.245908        |1.2977996     |MBA       |0.0           |0.0             |(12,[0],[1.0])|(10,[0],[1.0])|\n",
            "|3.29|0.15|7420   |0.49|2459200.5|258.56787|150.92239|103.80838|7.14165 |0.088425 |0.27150381|2.3620301|107     |Pan     |2459574.094|3.6301798     |2.1531676      |2.5708926    |1.1717807       |1.3802021     |MBA       |0.0           |0.0             |(12,[0],[1.0])|(10,[0],[1.0])|\n",
            "|6.99|0.15|3070   |0.56|2459200.5|65.61238 |358.62503|141.57168|5.36754 |0.1907879|0.23871914|2.5736208|81      |Pan     |2458925.648|4.1287334     |2.0826051      |3.0646365    |1.2399705       |1.3196182     |MBA       |0.0           |0.0             |(12,[0],[1.0])|(10,[0],[1.0])|\n",
            "|5.65|0.15|6041   |0.45|2459200.5|242.94481|239.70765|138.64293|14.73973|0.2032777|0.26106797|2.424564 |96      |Pan     |2459648.871|3.7752914     |1.9317042      |2.9174238    |1.1621883       |1.3603225     |Phocaea   |0.0           |2.0             |(12,[0],[1.0])|(10,[2],[1.0])|\n",
            "|5.58|0.15|5338   |0.46|2459200.5|300.79262|145.24071|259.54045|5.51827 |0.2296463|0.26723147|2.3871387|87      |Pan     |2459422.058|3.6882171     |1.8389411      |2.9353363    |1.1306236       |1.3719938     |MBA       |0.0           |0.0             |(12,[0],[1.0])|(10,[0],[1.0])|\n",
            "|6.51|0.15|2830   |0.6 |2459200.5|15.63852 |285.5018 |110.87635|5.88909 |0.1558501|0.30176118|2.2013739|90      |Pan     |2459148.676|3.2661845     |1.8582896      |2.5444582    |1.0739521       |1.4412703     |MBA       |0.0           |0.0             |(12,[0],[1.0])|(10,[0],[1.0])|\n",
            "|6.33|0.15|2968   |0.59|2459200.5|77.42938 |6.29362  |68.90477 |5.57632 |0.1233535|0.26740848|2.3860851|83      |Pan     |2458910.945|3.6857756     |2.0917532      |2.680417     |1.1748891       |1.3723319     |MBA       |0.0           |0.0             |(12,[0],[1.0])|(10,[0],[1.0])|\n",
            "|5.53|0.15|3530   |0.59|2459200.5|258.20934|312.42104|283.19813|3.83148 |0.1119474|0.1769123 |3.1426597|94      |Pan     |2459775.874|5.5711652     |2.7908471      |3.4944723    |1.5516376       |1.2187626     |MBA       |0.0           |0.0             |(12,[0],[1.0])|(10,[0],[1.0])|\n",
            "|6.56|0.15|5598   |0.49|2459200.5|72.99659 |195.40454|125.52869|4.63183 |0.0997356|0.25663876|2.4523807|98      |Pan     |2458916.067|3.8404475     |2.207791       |2.6969704    |1.2139932       |1.3520572     |MBA       |0.0           |0.0             |(12,[0],[1.0])|(10,[0],[1.0])|\n",
            "|7.3 |0.15|3258   |0.57|2459200.5|299.09975|69.73343 |235.39704|8.37323 |0.2205197|0.27650373|2.3334691|80      |Pan     |2459420.751|3.5645366     |1.8188932      |2.848045     |1.1099975       |1.389934      |MBA       |0.0           |0.0             |(12,[0],[1.0])|(10,[0],[1.0])|\n",
            "|6.83|0.15|2863   |0.58|2459200.5|330.79183|80.2932  |43.21908 |16.53381|0.0853703|0.23830297|2.5766163|72      |Pan     |2459323.067|4.1359438     |2.3566498      |2.7965828    |1.2789188       |1.3188833     |MBA       |0.0           |0.0             |(12,[0],[1.0])|(10,[0],[1.0])|\n",
            "|6.49|0.15|2883   |0.58|2459200.5|307.22193|97.75088 |86.12379 |9.12076 |0.1661571|0.23690752|2.5867243|82      |Pan     |2459423.279|4.1603054     |2.1569217      |3.0165269    |1.2576548       |1.3164251     |MBA       |0.0           |0.0             |(12,[0],[1.0])|(10,[0],[1.0])|\n",
            "|5.2 |0.15|2394   |0.55|2459200.5|60.84584 |98.61793 |292.93525|11.75338|0.1863457|0.22921812|2.6442555|79      |MPCW    |2458935.05 |4.299868      |2.1515099      |3.1370011    |1.2762172       |1.3030424     |MBA       |3.0           |0.0             |(12,[3],[1.0])|(10,[0],[1.0])|\n",
            "|6.05|0.15|3317   |0.57|2459200.5|46.43563 |229.08639|150.03697|3.09652 |0.1337219|0.19716964|2.9235421|87      |Pan     |2458964.989|4.9987801     |2.5326005      |3.3144837    |1.4356323       |1.2500763     |MBA       |0.0           |0.0             |(12,[0],[1.0])|(10,[0],[1.0])|\n",
            "|7.78|0.15|3944   |0.6 |2459200.5|95.98367 |135.83392|125.54165|5.59294 |0.133193 |0.25388619|2.4700742|98      |Pan     |2458822.442|3.8820846     |2.1410776      |2.7990708    |1.2131271       |1.3469711     |MBA       |0.0           |0.0             |(12,[0],[1.0])|(10,[0],[1.0])|\n",
            "|6.5 |0.15|4863   |0.54|2459200.5|77.09391 |228.10465|150.36236|10.1318 |0.2176288|0.28327733|2.2961213|74      |MPCW    |2458928.35 |3.4793029     |1.7964192      |2.7958234    |1.0936859       |1.4033392     |MBA       |3.0           |0.0             |(12,[3],[1.0])|(10,[0],[1.0])|\n",
            "|7.38|0.15|3491   |0.56|2459200.5|351.90128|182.36679|211.05924|1.57288 |0.1568159|0.25826407|2.4420809|91      |Pan     |2459231.858|3.8162786     |2.0591238      |2.825038     |1.1910136       |1.3550785     |MBA       |0.0           |0.0             |(12,[0],[1.0])|(10,[0],[1.0])|\n",
            "|6.55|0.15|2653   |0.59|2459200.5|275.03174|257.53731|205.98687|0.70883 |0.1427795|0.26372231|2.4082679|88      |Pan     |2459522.688|3.7372934     |2.0644166      |2.7521192    |1.1795865       |1.3653244     |MBA       |0.0           |0.0             |(12,[0],[1.0])|(10,[0],[1.0])|\n",
            "+----+----+-------+----+---------+---------+---------+---------+--------+---------+----------+---------+--------+--------+-----------+--------------+---------------+-------------+----------------+--------------+----------+--------------+----------------+--------------+--------------+\n",
            "only showing top 20 rows\n",
            "\n"
          ],
          "name": "stdout"
        }
      ]
    },
    {
      "cell_type": "code",
      "metadata": {
        "colab": {
          "base_uri": "https://localhost:8080/"
        },
        "id": "zY8mZ-z3i6Em",
        "outputId": "51119127-d0b8-4a16-b2be-52a59bf42dcb"
      },
      "source": [
        "orbit_data_OHE.printSchema()"
      ],
      "execution_count": 21,
      "outputs": [
        {
          "output_type": "stream",
          "text": [
            "root\n",
            " |-- H: float (nullable = true)\n",
            " |-- G: float (nullable = true)\n",
            " |-- Num_obs: integer (nullable = true)\n",
            " |-- rms: float (nullable = true)\n",
            " |-- Epoch: double (nullable = true)\n",
            " |-- M: double (nullable = true)\n",
            " |-- Peri: double (nullable = true)\n",
            " |-- Node: double (nullable = true)\n",
            " |-- i: double (nullable = true)\n",
            " |-- e: double (nullable = true)\n",
            " |-- n: double (nullable = true)\n",
            " |-- a: double (nullable = true)\n",
            " |-- Num_opps: integer (nullable = true)\n",
            " |-- Computer: string (nullable = true)\n",
            " |-- Tp: double (nullable = true)\n",
            " |-- Orbital_period: double (nullable = true)\n",
            " |-- Perihelion_dist: double (nullable = true)\n",
            " |-- Aphelion_dist: double (nullable = true)\n",
            " |-- Semilatus_rectum: double (nullable = true)\n",
            " |-- Synodic_period: double (nullable = true)\n",
            " |-- Orbit_type: string (nullable = true)\n",
            " |-- Computer_Index: double (nullable = false)\n",
            " |-- Orbit_type_Index: double (nullable = false)\n",
            " |-- Computer_vec: vector (nullable = true)\n",
            " |-- Orbit_type_vec: vector (nullable = true)\n",
            "\n"
          ],
          "name": "stdout"
        }
      ]
    },
    {
      "cell_type": "markdown",
      "metadata": {
        "id": "bL93J0TFaVe4"
      },
      "source": [
        "##12. Replace Null Values using Imputer Function:"
      ]
    },
    {
      "cell_type": "code",
      "metadata": {
        "id": "3TviyVSNZO_9"
      },
      "source": [
        "from pyspark.ml.feature import Imputer\n",
        "\n",
        "imputer = Imputer(\n",
        "    inputCols=['rms'], \n",
        "    outputCols=[\"{}_imputed\".format(c) for c in ['rms']]\n",
        "    ).setStrategy(\"mean\")"
      ],
      "execution_count": 22,
      "outputs": []
    },
    {
      "cell_type": "code",
      "metadata": {
        "id": "OyZ5kzsIZStn"
      },
      "source": [
        "orbit_data_impute=imputer.fit(orbit_data_OHE).transform(orbit_data_OHE)\n"
      ],
      "execution_count": 23,
      "outputs": []
    },
    {
      "cell_type": "code",
      "metadata": {
        "colab": {
          "base_uri": "https://localhost:8080/"
        },
        "id": "NptMa20-aRG7",
        "outputId": "43aff9ed-c971-4690-98dd-21c926f0f68c"
      },
      "source": [
        "orbit_data_impute.printSchema()"
      ],
      "execution_count": 24,
      "outputs": [
        {
          "output_type": "stream",
          "text": [
            "root\n",
            " |-- H: float (nullable = true)\n",
            " |-- G: float (nullable = true)\n",
            " |-- Num_obs: integer (nullable = true)\n",
            " |-- rms: float (nullable = true)\n",
            " |-- Epoch: double (nullable = true)\n",
            " |-- M: double (nullable = true)\n",
            " |-- Peri: double (nullable = true)\n",
            " |-- Node: double (nullable = true)\n",
            " |-- i: double (nullable = true)\n",
            " |-- e: double (nullable = true)\n",
            " |-- n: double (nullable = true)\n",
            " |-- a: double (nullable = true)\n",
            " |-- Num_opps: integer (nullable = true)\n",
            " |-- Computer: string (nullable = true)\n",
            " |-- Tp: double (nullable = true)\n",
            " |-- Orbital_period: double (nullable = true)\n",
            " |-- Perihelion_dist: double (nullable = true)\n",
            " |-- Aphelion_dist: double (nullable = true)\n",
            " |-- Semilatus_rectum: double (nullable = true)\n",
            " |-- Synodic_period: double (nullable = true)\n",
            " |-- Orbit_type: string (nullable = true)\n",
            " |-- Computer_Index: double (nullable = false)\n",
            " |-- Orbit_type_Index: double (nullable = false)\n",
            " |-- Computer_vec: vector (nullable = true)\n",
            " |-- Orbit_type_vec: vector (nullable = true)\n",
            " |-- rms_imputed: float (nullable = true)\n",
            "\n"
          ],
          "name": "stdout"
        }
      ]
    },
    {
      "cell_type": "code",
      "metadata": {
        "id": "b4EmftLFboJu"
      },
      "source": [
        "drop_rms={'rms'}\n",
        "orbit_data_final=orbit_data_impute.drop(*drop_rms)"
      ],
      "execution_count": 25,
      "outputs": []
    },
    {
      "cell_type": "code",
      "metadata": {
        "colab": {
          "base_uri": "https://localhost:8080/"
        },
        "id": "D-o85IJ6cJIm",
        "outputId": "accbd7bd-fe0f-4295-e29b-5cec7760fbf1"
      },
      "source": [
        "orbit_data_final.printSchema()"
      ],
      "execution_count": 26,
      "outputs": [
        {
          "output_type": "stream",
          "text": [
            "root\n",
            " |-- H: float (nullable = true)\n",
            " |-- G: float (nullable = true)\n",
            " |-- Num_obs: integer (nullable = true)\n",
            " |-- Epoch: double (nullable = true)\n",
            " |-- M: double (nullable = true)\n",
            " |-- Peri: double (nullable = true)\n",
            " |-- Node: double (nullable = true)\n",
            " |-- i: double (nullable = true)\n",
            " |-- e: double (nullable = true)\n",
            " |-- n: double (nullable = true)\n",
            " |-- a: double (nullable = true)\n",
            " |-- Num_opps: integer (nullable = true)\n",
            " |-- Computer: string (nullable = true)\n",
            " |-- Tp: double (nullable = true)\n",
            " |-- Orbital_period: double (nullable = true)\n",
            " |-- Perihelion_dist: double (nullable = true)\n",
            " |-- Aphelion_dist: double (nullable = true)\n",
            " |-- Semilatus_rectum: double (nullable = true)\n",
            " |-- Synodic_period: double (nullable = true)\n",
            " |-- Orbit_type: string (nullable = true)\n",
            " |-- Computer_Index: double (nullable = false)\n",
            " |-- Orbit_type_Index: double (nullable = false)\n",
            " |-- Computer_vec: vector (nullable = true)\n",
            " |-- Orbit_type_vec: vector (nullable = true)\n",
            " |-- rms_imputed: float (nullable = true)\n",
            "\n"
          ],
          "name": "stdout"
        }
      ]
    },
    {
      "cell_type": "markdown",
      "metadata": {
        "id": "PxPuDYSUasP6"
      },
      "source": [
        "##13.Combining the input features into vectors using Vector Assembler: "
      ]
    },
    {
      "cell_type": "code",
      "metadata": {
        "id": "f4MkMsr7Xmtk"
      },
      "source": [
        "from pyspark.ml.feature import OneHotEncoder, StringIndexer, VectorAssembler\n",
        "def assembler(orbit_data_final):\n",
        "  for col in orbit_data_final.columns:\n",
        "    data_assembler = VectorAssembler(inputCols=['H','G','Num_obs','rms_imputed','Epoch','M','Peri','Node','i','e','n','a',\n",
        "                                                'Num_opps','Tp','Orbital_period','Perihelion_dist','Aphelion_dist','Semilatus_rectum',\n",
        "                                                'Synodic_period','Computer_vec'], outputCol=\"features\")\n",
        "    orbit_type_data = data_assembler.transform(orbit_data_final)\n",
        "    return orbit_type_data.select(['features','Orbit_type_Index'])\n",
        "    \n"
      ],
      "execution_count": 27,
      "outputs": []
    },
    {
      "cell_type": "code",
      "metadata": {
        "colab": {
          "base_uri": "https://localhost:8080/"
        },
        "id": "8351PrvbzyXZ",
        "outputId": "41d05af0-5f5c-4a1b-fc4f-1fb2e5bde6d4"
      },
      "source": [
        "orbit_asteroid_dataset=assembler(orbit_data_final)\n",
        "orbit_asteroid_dataset.show(truncate=False)"
      ],
      "execution_count": 28,
      "outputs": [
        {
          "output_type": "stream",
          "text": [
            "+---------------------------------------------------------------------------------------------------------------------------------------------------------------------------------------------------------------------------------------------------------------------+----------------+\n",
            "|features                                                                                                                                                                                                                                                             |Orbit_type_Index|\n",
            "+---------------------------------------------------------------------------------------------------------------------------------------------------------------------------------------------------------------------------------------------------------------------+----------------+\n",
            "|[3.5299999713897705,0.15000000596046448,7277.0,0.5099999904632568,2459200.5,205.54543,73.72487,80.27236,10.5879,0.0781685,0.21424211,2.7660891,118.0,2459921.435,4.6004387,2.5498681,2.9823101,1.3745937,1.2777439,1.0,0.0,0.0,0.0,0.0,0.0,0.0,0.0,0.0,0.0,0.0,0.0]  |0.0             |\n",
            "|[4.210000038146973,0.15000000596046448,8702.0,0.46000000834465027,2459200.5,187.58635,310.2881,172.96589,34.85446,0.22975,0.21328227,2.7743817,115.0,2460008.883,4.621142,2.1369675,3.4117959,1.3139679,1.276156,1.0,0.0,0.0,0.0,0.0,0.0,0.0,0.0,0.0,0.0,0.0,0.0]    |0.0             |\n",
            "|[5.260000228881836,0.15000000596046448,7447.0,0.4699999988079071,2459200.5,170.71125,248.03277,169.85304,12.99149,0.2569881,0.22616245,2.6680198,114.0,2458445.683,4.3579633,1.9823705,3.3536691,1.245908,1.2977996,1.0,0.0,0.0,0.0,0.0,0.0,0.0,0.0,0.0,0.0,0.0,0.0] |0.0             |\n",
            "|[3.2899999618530273,0.15000000596046448,7420.0,0.49000000953674316,2459200.5,258.56787,150.92239,103.80838,7.14165,0.088425,0.27150381,2.3620301,107.0,2459574.094,3.6301798,2.1531676,2.5708926,1.1717807,1.3802021,1.0,0.0,0.0,0.0,0.0,0.0,0.0,0.0,0.0,0.0,0.0,0.0]|0.0             |\n",
            "|[6.989999771118164,0.15000000596046448,3070.0,0.5600000023841858,2459200.5,65.61238,358.62503,141.57168,5.36754,0.1907879,0.23871914,2.5736208,81.0,2458925.648,4.1287334,2.0826051,3.0646365,1.2399705,1.3196182,1.0,0.0,0.0,0.0,0.0,0.0,0.0,0.0,0.0,0.0,0.0,0.0]   |0.0             |\n",
            "|[5.650000095367432,0.15000000596046448,6041.0,0.44999998807907104,2459200.5,242.94481,239.70765,138.64293,14.73973,0.2032777,0.26106797,2.424564,96.0,2459648.871,3.7752914,1.9317042,2.9174238,1.1621883,1.3603225,1.0,0.0,0.0,0.0,0.0,0.0,0.0,0.0,0.0,0.0,0.0,0.0] |2.0             |\n",
            "|[5.579999923706055,0.15000000596046448,5338.0,0.46000000834465027,2459200.5,300.79262,145.24071,259.54045,5.51827,0.2296463,0.26723147,2.3871387,87.0,2459422.058,3.6882171,1.8389411,2.9353363,1.1306236,1.3719938,1.0,0.0,0.0,0.0,0.0,0.0,0.0,0.0,0.0,0.0,0.0,0.0] |0.0             |\n",
            "|[6.510000228881836,0.15000000596046448,2830.0,0.6000000238418579,2459200.5,15.63852,285.5018,110.87635,5.88909,0.1558501,0.30176118,2.2013739,90.0,2459148.676,3.2661845,1.8582896,2.5444582,1.0739521,1.4412703,1.0,0.0,0.0,0.0,0.0,0.0,0.0,0.0,0.0,0.0,0.0,0.0]    |0.0             |\n",
            "|[6.329999923706055,0.15000000596046448,2968.0,0.5899999737739563,2459200.5,77.42938,6.29362,68.90477,5.57632,0.1233535,0.26740848,2.3860851,83.0,2458910.945,3.6857756,2.0917532,2.680417,1.1748891,1.3723319,1.0,0.0,0.0,0.0,0.0,0.0,0.0,0.0,0.0,0.0,0.0,0.0]       |0.0             |\n",
            "|[5.53000020980835,0.15000000596046448,3530.0,0.5899999737739563,2459200.5,258.20934,312.42104,283.19813,3.83148,0.1119474,0.1769123,3.1426597,94.0,2459775.874,5.5711652,2.7908471,3.4944723,1.5516376,1.2187626,1.0,0.0,0.0,0.0,0.0,0.0,0.0,0.0,0.0,0.0,0.0,0.0]    |0.0             |\n",
            "|[6.559999942779541,0.15000000596046448,5598.0,0.49000000953674316,2459200.5,72.99659,195.40454,125.52869,4.63183,0.0997356,0.25663876,2.4523807,98.0,2458916.067,3.8404475,2.207791,2.6969704,1.2139932,1.3520572,1.0,0.0,0.0,0.0,0.0,0.0,0.0,0.0,0.0,0.0,0.0,0.0]   |0.0             |\n",
            "|[7.300000190734863,0.15000000596046448,3258.0,0.5699999928474426,2459200.5,299.09975,69.73343,235.39704,8.37323,0.2205197,0.27650373,2.3334691,80.0,2459420.751,3.5645366,1.8188932,2.848045,1.1099975,1.389934,1.0,0.0,0.0,0.0,0.0,0.0,0.0,0.0,0.0,0.0,0.0,0.0]     |0.0             |\n",
            "|[6.829999923706055,0.15000000596046448,2863.0,0.5799999833106995,2459200.5,330.79183,80.2932,43.21908,16.53381,0.0853703,0.23830297,2.5766163,72.0,2459323.067,4.1359438,2.3566498,2.7965828,1.2789188,1.3188833,1.0,0.0,0.0,0.0,0.0,0.0,0.0,0.0,0.0,0.0,0.0,0.0]    |0.0             |\n",
            "|[6.489999771118164,0.15000000596046448,2883.0,0.5799999833106995,2459200.5,307.22193,97.75088,86.12379,9.12076,0.1661571,0.23690752,2.5867243,82.0,2459423.279,4.1603054,2.1569217,3.0165269,1.2576548,1.3164251,1.0,0.0,0.0,0.0,0.0,0.0,0.0,0.0,0.0,0.0,0.0,0.0]    |0.0             |\n",
            "|[5.199999809265137,0.15000000596046448,2394.0,0.550000011920929,2459200.5,60.84584,98.61793,292.93525,11.75338,0.1863457,0.22921812,2.6442555,79.0,2458935.05,4.299868,2.1515099,3.1370011,1.2762172,1.3030424,0.0,0.0,0.0,1.0,0.0,0.0,0.0,0.0,0.0,0.0,0.0,0.0]      |0.0             |\n",
            "|[6.050000190734863,0.15000000596046448,3317.0,0.5699999928474426,2459200.5,46.43563,229.08639,150.03697,3.09652,0.1337219,0.19716964,2.9235421,87.0,2458964.989,4.9987801,2.5326005,3.3144837,1.4356323,1.2500763,1.0,0.0,0.0,0.0,0.0,0.0,0.0,0.0,0.0,0.0,0.0,0.0]   |0.0             |\n",
            "|[7.78000020980835,0.15000000596046448,3944.0,0.6000000238418579,2459200.5,95.98367,135.83392,125.54165,5.59294,0.133193,0.25388619,2.4700742,98.0,2458822.442,3.8820846,2.1410776,2.7990708,1.2131271,1.3469711,1.0,0.0,0.0,0.0,0.0,0.0,0.0,0.0,0.0,0.0,0.0,0.0]     |0.0             |\n",
            "|[6.5,0.15000000596046448,4863.0,0.5400000214576721,2459200.5,77.09391,228.10465,150.36236,10.1318,0.2176288,0.28327733,2.2961213,74.0,2458928.35,3.4793029,1.7964192,2.7958234,1.0936859,1.4033392,0.0,0.0,0.0,1.0,0.0,0.0,0.0,0.0,0.0,0.0,0.0,0.0]                  |0.0             |\n",
            "|[7.380000114440918,0.15000000596046448,3491.0,0.5600000023841858,2459200.5,351.90128,182.36679,211.05924,1.57288,0.1568159,0.25826407,2.4420809,91.0,2459231.858,3.8162786,2.0591238,2.825038,1.1910136,1.3550785,1.0,0.0,0.0,0.0,0.0,0.0,0.0,0.0,0.0,0.0,0.0,0.0]   |0.0             |\n",
            "|[6.550000190734863,0.15000000596046448,2653.0,0.5899999737739563,2459200.5,275.03174,257.53731,205.98687,0.70883,0.1427795,0.26372231,2.4082679,88.0,2459522.688,3.7372934,2.0644166,2.7521192,1.1795865,1.3653244,1.0,0.0,0.0,0.0,0.0,0.0,0.0,0.0,0.0,0.0,0.0,0.0]  |0.0             |\n",
            "+---------------------------------------------------------------------------------------------------------------------------------------------------------------------------------------------------------------------------------------------------------------------+----------------+\n",
            "only showing top 20 rows\n",
            "\n"
          ],
          "name": "stdout"
        }
      ]
    },
    {
      "cell_type": "markdown",
      "metadata": {
        "id": "3cl8yiTwbBmi"
      },
      "source": [
        "##14. Split the Dataset:"
      ]
    },
    {
      "cell_type": "code",
      "metadata": {
        "colab": {
          "base_uri": "https://localhost:8080/"
        },
        "id": "KkU-P6XXNKBc",
        "outputId": "04aa00a4-e956-44b1-edef-a5a548ae4e01"
      },
      "source": [
        "(trainData, testData) = orbit_asteroid_dataset.randomSplit([0.70, 0.30])\n",
        "trainData.cache()\n",
        "testData.cache()"
      ],
      "execution_count": 29,
      "outputs": [
        {
          "output_type": "execute_result",
          "data": {
            "text/plain": [
              "DataFrame[features: vector, Orbit_type_Index: double]"
            ]
          },
          "metadata": {
            "tags": []
          },
          "execution_count": 29
        }
      ]
    },
    {
      "cell_type": "code",
      "metadata": {
        "colab": {
          "base_uri": "https://localhost:8080/"
        },
        "id": "K4wVGdedptzf",
        "outputId": "6bd88fc4-1ec8-454b-a03a-d1c4acfdb743"
      },
      "source": [
        " print(f\"Size of train Dataset : {trainData.count()}\" )\n",
        " print(f\"Size of test Dataset : {testData.count()}\" )"
      ],
      "execution_count": 30,
      "outputs": [
        {
          "output_type": "stream",
          "text": [
            "Size of train Dataset : 366625\n",
            "Size of test Dataset : 157662\n"
          ],
          "name": "stdout"
        }
      ]
    },
    {
      "cell_type": "markdown",
      "metadata": {
        "id": "0BtSqdDN8_jM"
      },
      "source": [
        "##15. Decision Tree Classifier:"
      ]
    },
    {
      "cell_type": "markdown",
      "metadata": {
        "id": "7YemOldbbO4W"
      },
      "source": [
        "### 1. Fitting the Model:"
      ]
    },
    {
      "cell_type": "code",
      "metadata": {
        "colab": {
          "base_uri": "https://localhost:8080/"
        },
        "id": "0LsrIp4_Nke6",
        "outputId": "ff165ded-2995-4a20-e4b1-0678d279c517"
      },
      "source": [
        "from pyspark.ml.classification import DecisionTreeClassifier\n",
        "\n",
        "dt_classifier = DecisionTreeClassifier(seed = 1180, labelCol=\"Orbit_type_Index\", featuresCol=\"features\", predictionCol=\"prediction\")\n",
        "\n",
        "dt_model = dt_classifier.fit(trainData)\n",
        "print(dt_model.toDebugString)"
      ],
      "execution_count": 31,
      "outputs": [
        {
          "output_type": "stream",
          "text": [
            "DecisionTreeClassificationModel: uid=DecisionTreeClassifier_154daf6b1655, depth=5, numNodes=45, numClasses=11, numFeatures=31\n",
            "  If (feature 17 <= 0.9851644)\n",
            "   If (feature 9 <= 0.1729344)\n",
            "    If (feature 8 <= 14.633125)\n",
            "     If (feature 12 <= 7.5)\n",
            "      If (feature 3 <= 0.41499999165534973)\n",
            "       Predict: 0.0\n",
            "      Else (feature 3 > 0.41499999165534973)\n",
            "       Predict: 7.0\n",
            "     Else (feature 12 > 7.5)\n",
            "      If (feature 15 <= 1.71030035)\n",
            "       Predict: 4.0\n",
            "      Else (feature 15 > 1.71030035)\n",
            "       Predict: 0.0\n",
            "    Else (feature 8 > 14.633125)\n",
            "     If (feature 15 <= 1.71030035)\n",
            "      If (feature 9 <= 0.0591151)\n",
            "       Predict: 4.0\n",
            "      Else (feature 9 > 0.0591151)\n",
            "       Predict: 1.0\n",
            "     Else (feature 15 > 1.71030035)\n",
            "      Predict: 1.0\n",
            "   Else (feature 9 > 0.1729344)\n",
            "    If (feature 11 <= 2.1322194000000003)\n",
            "     If (feature 9 <= 0.2883538)\n",
            "      If (feature 16 <= 2.3166167499999997)\n",
            "       Predict: 7.0\n",
            "      Else (feature 16 > 2.3166167499999997)\n",
            "       Predict: 4.0\n",
            "     Else (feature 9 > 0.2883538)\n",
            "      Predict: 6.0\n",
            "    Else (feature 11 > 2.1322194000000003)\n",
            "     If (feature 16 <= 3.1453571)\n",
            "      Predict: 4.0\n",
            "     Else (feature 16 > 3.1453571)\n",
            "      Predict: 7.0\n",
            "  Else (feature 17 > 0.9851644)\n",
            "   If (feature 18 <= 1.20821935)\n",
            "    If (feature 16 <= 3.8990093000000003)\n",
            "     Predict: 0.0\n",
            "    Else (feature 16 > 3.8990093000000003)\n",
            "     If (feature 9 <= 0.12867575)\n",
            "      If (feature 0 <= 14.484999656677246)\n",
            "       Predict: 3.0\n",
            "      Else (feature 0 > 14.484999656677246)\n",
            "       Predict: 5.0\n",
            "     Else (feature 9 > 0.12867575)\n",
            "      If (feature 15 <= 2.7715855)\n",
            "       Predict: 0.0\n",
            "      Else (feature 15 > 2.7715855)\n",
            "       Predict: 5.0\n",
            "   Else (feature 18 > 1.20821935)\n",
            "    If (feature 15 <= 1.71030035)\n",
            "     If (feature 9 <= 0.2883538)\n",
            "      Predict: 0.0\n",
            "     Else (feature 9 > 0.2883538)\n",
            "      If (feature 17 <= 1.07918265)\n",
            "       Predict: 4.0\n",
            "      Else (feature 17 > 1.07918265)\n",
            "       Predict: 0.0\n",
            "    Else (feature 15 > 1.71030035)\n",
            "     If (feature 8 <= 18.316229999999997)\n",
            "      Predict: 0.0\n",
            "     Else (feature 8 > 18.316229999999997)\n",
            "      If (feature 11 <= 2.4755279999999997)\n",
            "       Predict: 2.0\n",
            "      Else (feature 11 > 2.4755279999999997)\n",
            "       Predict: 0.0\n",
            "\n"
          ],
          "name": "stdout"
        }
      ]
    },
    {
      "cell_type": "code",
      "metadata": {
        "colab": {
          "base_uri": "https://localhost:8080/"
        },
        "id": "tSJe3gDLrL2g",
        "outputId": "18138931-83f7-4415-e89a-4261cf77490a"
      },
      "source": [
        "dt_model.featureImportances"
      ],
      "execution_count": 32,
      "outputs": [
        {
          "output_type": "execute_result",
          "data": {
            "text/plain": [
              "SparseVector(31, {0: 0.0078, 3: 0.0001, 8: 0.0192, 9: 0.1207, 11: 0.0908, 12: 0.0003, 15: 0.1088, 16: 0.0875, 17: 0.4106, 18: 0.1542})"
            ]
          },
          "metadata": {
            "tags": []
          },
          "execution_count": 32
        }
      ]
    },
    {
      "cell_type": "markdown",
      "metadata": {
        "id": "Y20t0RNXbWad"
      },
      "source": [
        "###2. Testing the Model:"
      ]
    },
    {
      "cell_type": "code",
      "metadata": {
        "id": "2bIXX8fCqFQb"
      },
      "source": [
        " dt_model_predictions = dt_model.transform(testData)"
      ],
      "execution_count": 33,
      "outputs": []
    },
    {
      "cell_type": "markdown",
      "metadata": {
        "id": "_VghdniJbcjB"
      },
      "source": [
        "###3. Model Performance:"
      ]
    },
    {
      "cell_type": "code",
      "metadata": {
        "colab": {
          "base_uri": "https://localhost:8080/"
        },
        "id": "UuamvcQqqZJG",
        "outputId": "5121cf21-df8d-44ef-ed18-2114ddef595a"
      },
      "source": [
        "dt_model_predictions.select(['Orbit_type_Index','probability','prediction']).show(10,False)"
      ],
      "execution_count": 34,
      "outputs": [
        {
          "output_type": "stream",
          "text": [
            "+----------------+-------------------------------------------------------------------------------------------------------------+----------+\n",
            "|Orbit_type_Index|probability                                                                                                  |prediction|\n",
            "+----------------+-------------------------------------------------------------------------------------------------------------+----------+\n",
            "|8.0             |[0.05673758865248227,0.0,0.0,0.1519756838905775,0.0,0.6367781155015197,0.0,0.0,0.15450861195542046,0.0,0.0]  |5.0       |\n",
            "|8.0             |[0.05673758865248227,0.0,0.0,0.1519756838905775,0.0,0.6367781155015197,0.0,0.0,0.15450861195542046,0.0,0.0]  |5.0       |\n",
            "|8.0             |[0.05673758865248227,0.0,0.0,0.1519756838905775,0.0,0.6367781155015197,0.0,0.0,0.15450861195542046,0.0,0.0]  |5.0       |\n",
            "|8.0             |[0.05673758865248227,0.0,0.0,0.1519756838905775,0.0,0.6367781155015197,0.0,0.0,0.15450861195542046,0.0,0.0]  |5.0       |\n",
            "|8.0             |[0.002999400119976005,0.0,0.0,0.9214157168566287,0.0,0.03389322135572886,0.0,0.0,0.04169166166766647,0.0,0.0]|3.0       |\n",
            "|8.0             |[0.05673758865248227,0.0,0.0,0.1519756838905775,0.0,0.6367781155015197,0.0,0.0,0.15450861195542046,0.0,0.0]  |5.0       |\n",
            "|0.0             |[0.9946315349631505,2.3314822777067902E-4,0.0051353168090788525,0.0,0.0,0.0,0.0,0.0,0.0,0.0,0.0]             |0.0       |\n",
            "|8.0             |[0.05673758865248227,0.0,0.0,0.1519756838905775,0.0,0.6367781155015197,0.0,0.0,0.15450861195542046,0.0,0.0]  |5.0       |\n",
            "|8.0             |[0.05673758865248227,0.0,0.0,0.1519756838905775,0.0,0.6367781155015197,0.0,0.0,0.15450861195542046,0.0,0.0]  |5.0       |\n",
            "|8.0             |[0.002999400119976005,0.0,0.0,0.9214157168566287,0.0,0.03389322135572886,0.0,0.0,0.04169166166766647,0.0,0.0]|3.0       |\n",
            "+----------------+-------------------------------------------------------------------------------------------------------------+----------+\n",
            "only showing top 10 rows\n",
            "\n"
          ],
          "name": "stdout"
        }
      ]
    },
    {
      "cell_type": "markdown",
      "metadata": {
        "id": "Sw9vSU72bpW9"
      },
      "source": [
        "###4. Model Performance Evaluation Metrics:"
      ]
    },
    {
      "cell_type": "code",
      "metadata": {
        "colab": {
          "base_uri": "https://localhost:8080/"
        },
        "id": "J3pTp_QIumuT",
        "outputId": "da743eed-60c5-4023-bf99-9bb5d3c1e465"
      },
      "source": [
        "from pyspark.ml.evaluation import MulticlassClassificationEvaluator\n",
        "dt_evaluator = MulticlassClassificationEvaluator(predictionCol='prediction', labelCol='Orbit_type_Index')\n",
        "print('F1 Score:',dt_evaluator.evaluate(dt_model_predictions,{dt_evaluator.metricName: 'f1'}))\n",
        "print('Accuracy:',dt_evaluator.evaluate(dt_model_predictions,{dt_evaluator.metricName: 'accuracy'}))\n",
        "print('Precision:',dt_evaluator.evaluate(dt_model_predictions,{dt_evaluator.metricName: 'weightedPrecision'}))\n",
        "print('Recall:',dt_evaluator.evaluate(dt_model_predictions,{dt_evaluator.metricName: 'weightedRecall'}))\n",
        "print('TruePositiveRate:',dt_evaluator.evaluate(dt_model_predictions,{dt_evaluator.metricName: 'weightedTruePositiveRate'}))\n",
        "print('FalsePositiveRate:',dt_evaluator.evaluate(dt_model_predictions,{dt_evaluator.metricName: 'weightedFalsePositiveRate'}))\n"
      ],
      "execution_count": 36,
      "outputs": [
        {
          "output_type": "stream",
          "text": [
            "F1 Score: 0.9812648376427399\n",
            "Accuracy: 0.9833250878461519\n",
            "Precision: 0.9813798515777692\n",
            "Recall: 0.9833250878461518\n",
            "TruePositiveRate: 0.9833250878461518\n",
            "FalsePositiveRate: 0.15460307775822427\n"
          ],
          "name": "stdout"
        }
      ]
    },
    {
      "cell_type": "code",
      "metadata": {
        "colab": {
          "base_uri": "https://localhost:8080/"
        },
        "id": "jDRFJFdw5y7n",
        "outputId": "6064462e-900f-431a-8565-28a1127d4620"
      },
      "source": [
        "confusionMatrix = dt_model_predictions.groupBy(\"Orbit_type_Index\").pivot(\"prediction\", range(0,11)).count()\\\n",
        "                  .na.fill(0.0).orderBy(\"Orbit_type_Index\")\n",
        "confusionMatrix.show()"
      ],
      "execution_count": 38,
      "outputs": [
        {
          "output_type": "stream",
          "text": [
            "+----------------+------+----+---+----+---+---+---+---+---+---+---+\n",
            "|Orbit_type_Index|     0|   1|  2|   3|  4|  5|  6|  7|  8|  9| 10|\n",
            "+----------------+------+----+---+----+---+---+---+---+---+---+---+\n",
            "|             0.0|148586|   6|162|   5| 10| 67|  0|  0|  0|  0|  0|\n",
            "|             1.0|    32|2580| 69|   0| 15|  0|  0| 19|  0|  0|  0|\n",
            "|             2.0|   783|   0|812|   0|  0|  0|  0|  0|  0|  0|  0|\n",
            "|             3.0|     0|   0|  0|1340|  0|118|  0|  0|  0|  0|  0|\n",
            "|             4.0|   624|  35|  0|   0|594|  0| 19| 33|  0|  0|  0|\n",
            "|             5.0|     0|   0|  0|  60|  0|620|  0|  0|  0|  0|  0|\n",
            "|             6.0|     1|   2|  0|   0|  1|  0|319|104|  0|  0|  0|\n",
            "|             7.0|     3|  18|  0|   0| 20|  0|148|182|  0|  0|  0|\n",
            "|             8.0|     2|   0|  0|  61|  0|136|  0|  0|  0|  0|  0|\n",
            "|             9.0|     0|   5|  0|   0|  0|  0| 56| 12|  0|  0|  0|\n",
            "|            10.0|     0|   0|  0|   0|  0|  0|  3|  0|  0|  0|  0|\n",
            "+----------------+------+----+---+----+---+---+---+---+---+---+---+\n",
            "\n"
          ],
          "name": "stdout"
        }
      ]
    },
    {
      "cell_type": "markdown",
      "metadata": {
        "id": "4CXkkQPR83I1"
      },
      "source": [
        "##16. Random Forest Classifier:\n"
      ]
    },
    {
      "cell_type": "markdown",
      "metadata": {
        "id": "y6-0ZEA_b6UY"
      },
      "source": [
        "###1. Training the Model "
      ]
    },
    {
      "cell_type": "code",
      "metadata": {
        "id": "ir7ijwKVyYXv"
      },
      "source": [
        "from pyspark.ml.classification import RandomForestClassifier\n",
        "rf_classifier = RandomForestClassifier(seed=1180, labelCol=\"Orbit_type_Index\", featuresCol=\"features\", predictionCol=\"prediction\",\n",
        "                                       numTrees=50,maxDepth=20)\n",
        "rf_model = rf_classifier.fit(trainData)\n"
      ],
      "execution_count": 39,
      "outputs": []
    },
    {
      "cell_type": "markdown",
      "metadata": {
        "id": "m3DgesrTcBjQ"
      },
      "source": [
        "###2. Testing the Model:"
      ]
    },
    {
      "cell_type": "code",
      "metadata": {
        "id": "AAKB6nJh8R05"
      },
      "source": [
        " rf_model_predictions = rf_model.transform(testData)"
      ],
      "execution_count": 40,
      "outputs": []
    },
    {
      "cell_type": "markdown",
      "metadata": {
        "id": "DRZlkuCfcJR8"
      },
      "source": [
        "###3. Model Performance:"
      ]
    },
    {
      "cell_type": "code",
      "metadata": {
        "colab": {
          "base_uri": "https://localhost:8080/"
        },
        "id": "MZmq02I28cSZ",
        "outputId": "5d8106a5-843b-493d-e5d5-dc3581a29257"
      },
      "source": [
        "rf_model_predictions.select(['Orbit_type_Index','probability','prediction']).show(10,False)"
      ],
      "execution_count": 41,
      "outputs": [
        {
          "output_type": "stream",
          "text": [
            "+----------------+--------------------------------------------------------------------------------------------------------------+----------+\n",
            "|Orbit_type_Index|probability                                                                                                   |prediction|\n",
            "+----------------+--------------------------------------------------------------------------------------------------------------+----------+\n",
            "|8.0             |[0.002765768052187318,0.0,0.0,0.12415968881099161,0.0,0.36586983105064436,0.0,0.0,0.5072047120861768,0.0,0.0] |8.0       |\n",
            "|8.0             |[0.07039092791266705,0.0,0.0,0.37694815546772065,0.0,0.2887248360335317,0.0,0.0,0.26393608058608065,0.0,0.0]  |3.0       |\n",
            "|8.0             |[0.022168158259501008,0.0,0.0,0.10492695303280623,0.0,0.15139825766275355,0.0,0.0,0.7215066310449392,0.0,0.0] |8.0       |\n",
            "|8.0             |[0.09910101194628047,0.0,0.0,0.16354079616036138,0.0,0.2765991421196025,0.0,0.0,0.4607590497737557,0.0,0.0]   |8.0       |\n",
            "|8.0             |[0.002588822346130934,0.0,0.0,0.8984600679657528,0.0,0.03292901053927209,0.0,0.0,0.06602209914884412,0.0,0.0] |3.0       |\n",
            "|8.0             |[0.0032701397526502473,0.0,0.0,0.8293782253822185,0.0,0.00686670162858942,0.0,0.0,0.16048493323654178,0.0,0.0]|3.0       |\n",
            "|0.0             |[1.0,0.0,0.0,0.0,0.0,0.0,0.0,0.0,0.0,0.0,0.0]                                                                 |0.0       |\n",
            "|8.0             |[0.022469684758212614,0.0,0.0,0.12221861471861473,0.0,0.02,0.0,0.0,0.8353117005231726,0.0,0.0]                |8.0       |\n",
            "|8.0             |[0.04378296988577361,0.0,0.0,0.2266018426459866,0.0,0.0033333333333333327,0.0,0.0,0.7262818541349064,0.0,0.0] |8.0       |\n",
            "|8.0             |[4.185264611615496E-4,0.0,0.0,0.6538293597322388,0.0,0.0033509035288328587,0.0,0.0,0.3424012102777668,0.0,0.0]|3.0       |\n",
            "+----------------+--------------------------------------------------------------------------------------------------------------+----------+\n",
            "only showing top 10 rows\n",
            "\n"
          ],
          "name": "stdout"
        }
      ]
    },
    {
      "cell_type": "markdown",
      "metadata": {
        "id": "NQKEUYOPcNpf"
      },
      "source": [
        "###4. Model Performance Evaluation Metrics:"
      ]
    },
    {
      "cell_type": "code",
      "metadata": {
        "colab": {
          "base_uri": "https://localhost:8080/"
        },
        "id": "5YHmYi860grc",
        "outputId": "0f6030c0-3ca0-448e-d831-5d76518aa300"
      },
      "source": [
        "from pyspark.ml.evaluation import MulticlassClassificationEvaluator\n",
        "rf_evaluator = MulticlassClassificationEvaluator(predictionCol='prediction', labelCol='Orbit_type_Index')\n",
        "\n",
        "print('F1 Score:',rf_evaluator.evaluate(rf_model_predictions,{rf_evaluator.metricName: 'f1'}))\n",
        "print('Accuracy:',rf_evaluator.evaluate(rf_model_predictions,{rf_evaluator.metricName: 'accuracy'}))\n",
        "print('Precision:',rf_evaluator.evaluate(rf_model_predictions,{rf_evaluator.metricName: 'weightedPrecision'}))\n",
        "print('Recall:',rf_evaluator.evaluate(rf_model_predictions,{rf_evaluator.metricName: 'weightedRecall'}))\n",
        "print('TruePositiveRate:',rf_evaluator.evaluate(rf_model_predictions,{rf_evaluator.metricName: 'weightedTruePositiveRate'}))\n",
        "print('FalsePositiveRate:',rf_evaluator.evaluate(rf_model_predictions,{rf_evaluator.metricName: 'weightedFalsePositiveRate'}))"
      ],
      "execution_count": 42,
      "outputs": [
        {
          "output_type": "stream",
          "text": [
            "F1 Score: 0.9945429568167019\n",
            "Accuracy: 0.9946975174740902\n",
            "Precision: 0.9947376317480914\n",
            "Recall: 0.99469751747409\n",
            "TruePositiveRate: 0.99469751747409\n",
            "FalsePositiveRate: 0.017143978973661322\n"
          ],
          "name": "stdout"
        }
      ]
    },
    {
      "cell_type": "code",
      "metadata": {
        "colab": {
          "base_uri": "https://localhost:8080/"
        },
        "id": "LB6QgWPzAawb",
        "outputId": "df5bf23f-a3a9-478d-f27c-af11fc38815a"
      },
      "source": [
        "confusionMatrix_rf = rf_model_predictions.groupBy(\"Orbit_type_Index\").pivot(\"prediction\", range(0,11)).count()\\\n",
        "                     .na.fill(0.0).orderBy(\"Orbit_type_Index\")\n",
        "confusionMatrix_rf.show()"
      ],
      "execution_count": 44,
      "outputs": [
        {
          "output_type": "stream",
          "text": [
            "+----------------+------+----+----+----+----+---+---+---+---+---+---+\n",
            "|Orbit_type_Index|     0|   1|   2|   3|   4|  5|  6|  7|  8|  9| 10|\n",
            "+----------------+------+----+----+----+----+---+---+---+---+---+---+\n",
            "|             0.0|148658|  42|  28|   8|  74| 26|  0|  0|  0|  0|  0|\n",
            "|             1.0|     3|2700|   0|   0|   8|  0|  0|  4|  0|  0|  0|\n",
            "|             2.0|    61|   0|1534|   0|   0|  0|  0|  0|  0|  0|  0|\n",
            "|             3.0|     0|   0|   0|1448|   0| 10|  0|  0|  0|  0|  0|\n",
            "|             4.0|    95|  48|   1|   0|1120|  0| 10| 31|  0|  0|  0|\n",
            "|             5.0|     0|   0|   0|  43|   0|637|  0|  0|  0|  0|  0|\n",
            "|             6.0|     0|   1|   0|   0|   0|  0|338| 87|  0|  1|  0|\n",
            "|             7.0|     0|  17|   0|   0|  16|  0|121|217|  0|  0|  0|\n",
            "|             8.0|     1|   0|   0|  29|   0|  1|  0|  0|168|  0|  0|\n",
            "|             9.0|     0|   5|   0|   0|   0|  0| 54|  8|  0|  6|  0|\n",
            "|            10.0|     0|   0|   0|   0|   0|  0|  2|  0|  0|  1|  0|\n",
            "+----------------+------+----+----+----+----+---+---+---+---+---+---+\n",
            "\n"
          ],
          "name": "stdout"
        }
      ]
    },
    {
      "cell_type": "markdown",
      "metadata": {
        "id": "5ICuQosRc9AZ"
      },
      "source": [
        "##17. Correlation Plot:"
      ]
    },
    {
      "cell_type": "code",
      "metadata": {
        "id": "k-wLdyI-INTH"
      },
      "source": [
        "import matplotlib.pyplot as plt \n",
        "import numpy as np\n",
        "import pandas as pd"
      ],
      "execution_count": 45,
      "outputs": []
    },
    {
      "cell_type": "code",
      "metadata": {
        "id": "cEGpPy1NIfua"
      },
      "source": [
        "# Correlation matrix:\n",
        "def Correlation_Matrix(data, gw):\n",
        "    filename = data.dataframeName\n",
        "    data = data.dropna('columns') # drop columns with NaN\n",
        "    data = data[[col for col in data if data[col].nunique() > 1]] # keep columns where there are more than 1 unique values\n",
        "    if data.shape[1] < 2:\n",
        "        print(f'No correlation plots shown: The number of non-NaN or constant columns ({data.shape[1]}) is less than 2')\n",
        "        return\n",
        "    corr = data.corr()\n",
        "    plt.figure(num=None, figsize=(gw, gw), dpi=80, facecolor='w', edgecolor='k')\n",
        "    corrMatrix = plt.matshow(corr, fignum = 1)\n",
        "    plt.xticks(range(len(corr.columns)), corr.columns, rotation=90)\n",
        "    plt.yticks(range(len(corr.columns)), corr.columns)\n",
        "    plt.gca().xaxis.tick_bottom()\n",
        "    plt.colorbar(corrMatrix)\n",
        "    plt.title(f'Correlation Plot for {filename}', fontsize=12)\n",
        "    plt.show()"
      ],
      "execution_count": 53,
      "outputs": []
    },
    {
      "cell_type": "code",
      "metadata": {
        "id": "vVqBrpB7Ityv"
      },
      "source": [
        "python_data = pd.read_csv('/content/orbit_asteroid.csv', delimiter=',')\n",
        "python_data.dataframeName = 'orbit_asteroid.csv'\n"
      ],
      "execution_count": 54,
      "outputs": []
    },
    {
      "cell_type": "code",
      "metadata": {
        "colab": {
          "base_uri": "https://localhost:8080/",
          "height": 703
        },
        "id": "yQDVNyGSJl5V",
        "outputId": "c92d4d40-c9af-4db5-d6ca-005b5a16f369"
      },
      "source": [
        "Correlation_Matrix(python_data, 10)"
      ],
      "execution_count": 55,
      "outputs": [
        {
          "output_type": "display_data",
          "data": {
            "image/png": "[encoded data removed]",
            "text/plain": [
              "<Figure size 800x800 with 2 Axes>"
            ]
          },
          "metadata": {
            "tags": []
          }
        }
      ]
    },
    {
      "cell_type": "code",
      "metadata": {
        "id": "_kTcBuKEm3kz"
      },
      "source": [
        ""
      ],
      "execution_count": null,
      "outputs": []
    }
  ]
}